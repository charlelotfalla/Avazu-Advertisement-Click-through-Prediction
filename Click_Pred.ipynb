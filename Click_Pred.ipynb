{
 "cells": [
  {
   "cell_type": "code",
   "execution_count": 1,
   "metadata": {},
   "outputs": [
    {
     "name": "stderr",
     "output_type": "stream",
     "text": [
      "Using TensorFlow backend.\n"
     ]
    }
   ],
   "source": [
    "import numpy as np\n",
    "import pandas as pd\n",
    "import random\n",
    "import matplotlib as mpl\n",
    "import matplotlib.pyplot as plt\n",
    "import gzip  \n",
    "import seaborn as sns \n",
    "from sklearn.model_selection import train_test_split, GridSearchCV\n",
    "from sklearn.tree import DecisionTreeClassifier\n",
    "from sklearn.ensemble import RandomForestClassifier\n",
    "from sklearn.ensemble import GradientBoostingClassifier\n",
    "from sklearn.ensemble import BaggingClassifier\n",
    "from sklearn.metrics import recall_score, precision_score, roc_auc_score, roc_curve\n",
    "pd.options.display.max_columns = None # display all columns\n",
    "mpl.rcParams['figure.dpi'] = 150 # Make plots bigger\n",
    "from imblearn.under_sampling import NearMiss\n",
    "\n",
    "\n",
    "n = 40428967  #total number of records in the clickstream data \n",
    "sample_size = 100000\n",
    "skip_values = sorted(random.sample(range(1,n), n-sample_size))\n",
    "parse_date = lambda val : pd.datetime.strptime(val, '%y%m%d%H')\n",
    "with gzip.open('train.gz') as f:\n",
    "    data = pd.read_csv(f, parse_dates = ['hour'], date_parser = parse_date, skiprows = skip_values)\n"
   ]
  },
  {
   "cell_type": "code",
   "execution_count": 3,
   "metadata": {},
   "outputs": [
    {
     "data": {
      "text/html": [
       "<div>\n",
       "<style scoped>\n",
       "    .dataframe tbody tr th:only-of-type {\n",
       "        vertical-align: middle;\n",
       "    }\n",
       "\n",
       "    .dataframe tbody tr th {\n",
       "        vertical-align: top;\n",
       "    }\n",
       "\n",
       "    .dataframe thead th {\n",
       "        text-align: right;\n",
       "    }\n",
       "</style>\n",
       "<table border=\"1\" class=\"dataframe\">\n",
       "  <thead>\n",
       "    <tr style=\"text-align: right;\">\n",
       "      <th></th>\n",
       "      <th>id</th>\n",
       "      <th>click</th>\n",
       "      <th>hour</th>\n",
       "      <th>C1</th>\n",
       "      <th>banner_pos</th>\n",
       "      <th>site_id</th>\n",
       "      <th>site_domain</th>\n",
       "      <th>site_category</th>\n",
       "      <th>app_id</th>\n",
       "      <th>app_domain</th>\n",
       "      <th>app_category</th>\n",
       "      <th>device_id</th>\n",
       "      <th>device_ip</th>\n",
       "      <th>device_model</th>\n",
       "      <th>device_type</th>\n",
       "      <th>device_conn_type</th>\n",
       "      <th>C14</th>\n",
       "      <th>C15</th>\n",
       "      <th>C16</th>\n",
       "      <th>C17</th>\n",
       "      <th>C18</th>\n",
       "      <th>C19</th>\n",
       "      <th>C20</th>\n",
       "      <th>C21</th>\n",
       "    </tr>\n",
       "  </thead>\n",
       "  <tbody>\n",
       "    <tr>\n",
       "      <td>0</td>\n",
       "      <td>10197730649671218638</td>\n",
       "      <td>0</td>\n",
       "      <td>2014-10-21</td>\n",
       "      <td>1005</td>\n",
       "      <td>1</td>\n",
       "      <td>0a742914</td>\n",
       "      <td>510bd839</td>\n",
       "      <td>f028772b</td>\n",
       "      <td>ecad2386</td>\n",
       "      <td>7801e8d9</td>\n",
       "      <td>07d7df22</td>\n",
       "      <td>a99f214a</td>\n",
       "      <td>583a3354</td>\n",
       "      <td>236330a4</td>\n",
       "      <td>1</td>\n",
       "      <td>0</td>\n",
       "      <td>19772</td>\n",
       "      <td>320</td>\n",
       "      <td>50</td>\n",
       "      <td>2227</td>\n",
       "      <td>0</td>\n",
       "      <td>687</td>\n",
       "      <td>100079</td>\n",
       "      <td>48</td>\n",
       "    </tr>\n",
       "    <tr>\n",
       "      <td>1</td>\n",
       "      <td>10382470462203832576</td>\n",
       "      <td>0</td>\n",
       "      <td>2014-10-21</td>\n",
       "      <td>1005</td>\n",
       "      <td>0</td>\n",
       "      <td>1fbe01fe</td>\n",
       "      <td>f3845767</td>\n",
       "      <td>28905ebd</td>\n",
       "      <td>ecad2386</td>\n",
       "      <td>7801e8d9</td>\n",
       "      <td>07d7df22</td>\n",
       "      <td>a99f214a</td>\n",
       "      <td>8664d73c</td>\n",
       "      <td>711ee120</td>\n",
       "      <td>1</td>\n",
       "      <td>0</td>\n",
       "      <td>15699</td>\n",
       "      <td>320</td>\n",
       "      <td>50</td>\n",
       "      <td>1722</td>\n",
       "      <td>0</td>\n",
       "      <td>35</td>\n",
       "      <td>100084</td>\n",
       "      <td>79</td>\n",
       "    </tr>\n",
       "    <tr>\n",
       "      <td>2</td>\n",
       "      <td>10455448595439357179</td>\n",
       "      <td>0</td>\n",
       "      <td>2014-10-21</td>\n",
       "      <td>1005</td>\n",
       "      <td>0</td>\n",
       "      <td>6c5b482c</td>\n",
       "      <td>7687a86e</td>\n",
       "      <td>3e814130</td>\n",
       "      <td>ecad2386</td>\n",
       "      <td>7801e8d9</td>\n",
       "      <td>07d7df22</td>\n",
       "      <td>a99f214a</td>\n",
       "      <td>9de37c65</td>\n",
       "      <td>a02e0266</td>\n",
       "      <td>1</td>\n",
       "      <td>0</td>\n",
       "      <td>20345</td>\n",
       "      <td>300</td>\n",
       "      <td>250</td>\n",
       "      <td>2331</td>\n",
       "      <td>2</td>\n",
       "      <td>39</td>\n",
       "      <td>-1</td>\n",
       "      <td>23</td>\n",
       "    </tr>\n",
       "    <tr>\n",
       "      <td>3</td>\n",
       "      <td>10761806693636361147</td>\n",
       "      <td>0</td>\n",
       "      <td>2014-10-21</td>\n",
       "      <td>1005</td>\n",
       "      <td>0</td>\n",
       "      <td>1fbe01fe</td>\n",
       "      <td>f3845767</td>\n",
       "      <td>28905ebd</td>\n",
       "      <td>ecad2386</td>\n",
       "      <td>7801e8d9</td>\n",
       "      <td>07d7df22</td>\n",
       "      <td>a99f214a</td>\n",
       "      <td>a48a2f3f</td>\n",
       "      <td>c6263d8a</td>\n",
       "      <td>1</td>\n",
       "      <td>0</td>\n",
       "      <td>15705</td>\n",
       "      <td>320</td>\n",
       "      <td>50</td>\n",
       "      <td>1722</td>\n",
       "      <td>0</td>\n",
       "      <td>35</td>\n",
       "      <td>-1</td>\n",
       "      <td>79</td>\n",
       "    </tr>\n",
       "    <tr>\n",
       "      <td>4</td>\n",
       "      <td>10845120183239267814</td>\n",
       "      <td>1</td>\n",
       "      <td>2014-10-21</td>\n",
       "      <td>1005</td>\n",
       "      <td>0</td>\n",
       "      <td>1fbe01fe</td>\n",
       "      <td>f3845767</td>\n",
       "      <td>28905ebd</td>\n",
       "      <td>ecad2386</td>\n",
       "      <td>7801e8d9</td>\n",
       "      <td>07d7df22</td>\n",
       "      <td>a99f214a</td>\n",
       "      <td>8299c472</td>\n",
       "      <td>cc1e3ed4</td>\n",
       "      <td>1</td>\n",
       "      <td>0</td>\n",
       "      <td>15703</td>\n",
       "      <td>320</td>\n",
       "      <td>50</td>\n",
       "      <td>1722</td>\n",
       "      <td>0</td>\n",
       "      <td>35</td>\n",
       "      <td>-1</td>\n",
       "      <td>79</td>\n",
       "    </tr>\n",
       "  </tbody>\n",
       "</table>\n",
       "</div>"
      ],
      "text/plain": [
       "                     id  click       hour    C1  banner_pos   site_id  \\\n",
       "0  10197730649671218638      0 2014-10-21  1005           1  0a742914   \n",
       "1  10382470462203832576      0 2014-10-21  1005           0  1fbe01fe   \n",
       "2  10455448595439357179      0 2014-10-21  1005           0  6c5b482c   \n",
       "3  10761806693636361147      0 2014-10-21  1005           0  1fbe01fe   \n",
       "4  10845120183239267814      1 2014-10-21  1005           0  1fbe01fe   \n",
       "\n",
       "  site_domain site_category    app_id app_domain app_category device_id  \\\n",
       "0    510bd839      f028772b  ecad2386   7801e8d9     07d7df22  a99f214a   \n",
       "1    f3845767      28905ebd  ecad2386   7801e8d9     07d7df22  a99f214a   \n",
       "2    7687a86e      3e814130  ecad2386   7801e8d9     07d7df22  a99f214a   \n",
       "3    f3845767      28905ebd  ecad2386   7801e8d9     07d7df22  a99f214a   \n",
       "4    f3845767      28905ebd  ecad2386   7801e8d9     07d7df22  a99f214a   \n",
       "\n",
       "  device_ip device_model  device_type  device_conn_type    C14  C15  C16  \\\n",
       "0  583a3354     236330a4            1                 0  19772  320   50   \n",
       "1  8664d73c     711ee120            1                 0  15699  320   50   \n",
       "2  9de37c65     a02e0266            1                 0  20345  300  250   \n",
       "3  a48a2f3f     c6263d8a            1                 0  15705  320   50   \n",
       "4  8299c472     cc1e3ed4            1                 0  15703  320   50   \n",
       "\n",
       "    C17  C18  C19     C20  C21  \n",
       "0  2227    0  687  100079   48  \n",
       "1  1722    0   35  100084   79  \n",
       "2  2331    2   39      -1   23  \n",
       "3  1722    0   35      -1   79  \n",
       "4  1722    0   35      -1   79  "
      ]
     },
     "execution_count": 3,
     "metadata": {},
     "output_type": "execute_result"
    }
   ],
   "source": [
    "data.head()"
   ]
  },
  {
   "cell_type": "code",
   "execution_count": 4,
   "metadata": {},
   "outputs": [
    {
     "data": {
      "image/png": "[encoded data removed]",
      "text/plain": [
       "<Figure size 432x288 with 1 Axes>"
      ]
     },
     "metadata": {
      "needs_background": "light"
     },
     "output_type": "display_data"
    }
   ],
   "source": [
    "import numpy as np\n",
    "import matplotlib.pyplot as plt\n",
    "import seaborn as sns \n",
    "\n",
    "\n",
    "sns.countplot(x='click',data=data)\n",
    "plt.show()"
   ]
  },
  {
   "cell_type": "code",
   "execution_count": 5,
   "metadata": {},
   "outputs": [
    {
     "data": {
      "text/plain": [
       "0    0.83053\n",
       "1    0.16947\n",
       "Name: click, dtype: float64"
      ]
     },
     "execution_count": 5,
     "metadata": {},
     "output_type": "execute_result"
    }
   ],
   "source": [
    "data['click'].value_counts()/len(data)"
   ]
  },
  {
   "cell_type": "code",
   "execution_count": 6,
   "metadata": {},
   "outputs": [
    {
     "data": {
      "text/html": [
       "<div>\n",
       "<style scoped>\n",
       "    .dataframe tbody tr th:only-of-type {\n",
       "        vertical-align: middle;\n",
       "    }\n",
       "\n",
       "    .dataframe tbody tr th {\n",
       "        vertical-align: top;\n",
       "    }\n",
       "\n",
       "    .dataframe thead th {\n",
       "        text-align: right;\n",
       "    }\n",
       "</style>\n",
       "<table border=\"1\" class=\"dataframe\">\n",
       "  <thead>\n",
       "    <tr style=\"text-align: right;\">\n",
       "      <th></th>\n",
       "      <th>id</th>\n",
       "      <th>click</th>\n",
       "      <th>C1</th>\n",
       "      <th>banner_pos</th>\n",
       "      <th>device_type</th>\n",
       "      <th>device_conn_type</th>\n",
       "      <th>C14</th>\n",
       "      <th>C15</th>\n",
       "      <th>C16</th>\n",
       "      <th>C17</th>\n",
       "      <th>C18</th>\n",
       "      <th>C19</th>\n",
       "      <th>C20</th>\n",
       "      <th>C21</th>\n",
       "    </tr>\n",
       "  </thead>\n",
       "  <tbody>\n",
       "    <tr>\n",
       "      <td>count</td>\n",
       "      <td>1.000000e+05</td>\n",
       "      <td>100000.000000</td>\n",
       "      <td>100000.000000</td>\n",
       "      <td>100000.000000</td>\n",
       "      <td>100000.000000</td>\n",
       "      <td>100000.000000</td>\n",
       "      <td>100000.000000</td>\n",
       "      <td>100000.000000</td>\n",
       "      <td>100000.000000</td>\n",
       "      <td>100000.00000</td>\n",
       "      <td>100000.00000</td>\n",
       "      <td>100000.000000</td>\n",
       "      <td>100000.000000</td>\n",
       "      <td>100000.000000</td>\n",
       "    </tr>\n",
       "    <tr>\n",
       "      <td>mean</td>\n",
       "      <td>9.231148e+18</td>\n",
       "      <td>0.169470</td>\n",
       "      <td>1004.970800</td>\n",
       "      <td>0.286750</td>\n",
       "      <td>1.016620</td>\n",
       "      <td>0.334780</td>\n",
       "      <td>18827.812790</td>\n",
       "      <td>318.951040</td>\n",
       "      <td>59.844680</td>\n",
       "      <td>2111.06351</td>\n",
       "      <td>1.42963</td>\n",
       "      <td>227.435710</td>\n",
       "      <td>53007.078110</td>\n",
       "      <td>83.428260</td>\n",
       "    </tr>\n",
       "    <tr>\n",
       "      <td>std</td>\n",
       "      <td>5.328256e+18</td>\n",
       "      <td>0.375168</td>\n",
       "      <td>1.112124</td>\n",
       "      <td>0.508042</td>\n",
       "      <td>0.534478</td>\n",
       "      <td>0.858283</td>\n",
       "      <td>4978.119365</td>\n",
       "      <td>21.269664</td>\n",
       "      <td>46.700058</td>\n",
       "      <td>611.17776</td>\n",
       "      <td>1.32788</td>\n",
       "      <td>350.661815</td>\n",
       "      <td>49969.915325</td>\n",
       "      <td>70.184056</td>\n",
       "    </tr>\n",
       "    <tr>\n",
       "      <td>min</td>\n",
       "      <td>1.441823e+13</td>\n",
       "      <td>0.000000</td>\n",
       "      <td>1001.000000</td>\n",
       "      <td>0.000000</td>\n",
       "      <td>0.000000</td>\n",
       "      <td>0.000000</td>\n",
       "      <td>375.000000</td>\n",
       "      <td>120.000000</td>\n",
       "      <td>20.000000</td>\n",
       "      <td>112.00000</td>\n",
       "      <td>0.00000</td>\n",
       "      <td>33.000000</td>\n",
       "      <td>-1.000000</td>\n",
       "      <td>1.000000</td>\n",
       "    </tr>\n",
       "    <tr>\n",
       "      <td>25%</td>\n",
       "      <td>4.611897e+18</td>\n",
       "      <td>0.000000</td>\n",
       "      <td>1005.000000</td>\n",
       "      <td>0.000000</td>\n",
       "      <td>1.000000</td>\n",
       "      <td>0.000000</td>\n",
       "      <td>16859.000000</td>\n",
       "      <td>320.000000</td>\n",
       "      <td>50.000000</td>\n",
       "      <td>1835.00000</td>\n",
       "      <td>0.00000</td>\n",
       "      <td>35.000000</td>\n",
       "      <td>-1.000000</td>\n",
       "      <td>23.000000</td>\n",
       "    </tr>\n",
       "    <tr>\n",
       "      <td>50%</td>\n",
       "      <td>9.213765e+18</td>\n",
       "      <td>0.000000</td>\n",
       "      <td>1005.000000</td>\n",
       "      <td>0.000000</td>\n",
       "      <td>1.000000</td>\n",
       "      <td>0.000000</td>\n",
       "      <td>20346.000000</td>\n",
       "      <td>320.000000</td>\n",
       "      <td>50.000000</td>\n",
       "      <td>2323.00000</td>\n",
       "      <td>2.00000</td>\n",
       "      <td>39.000000</td>\n",
       "      <td>100037.000000</td>\n",
       "      <td>61.000000</td>\n",
       "    </tr>\n",
       "    <tr>\n",
       "      <td>75%</td>\n",
       "      <td>1.385012e+19</td>\n",
       "      <td>0.000000</td>\n",
       "      <td>1005.000000</td>\n",
       "      <td>1.000000</td>\n",
       "      <td>1.000000</td>\n",
       "      <td>0.000000</td>\n",
       "      <td>21894.000000</td>\n",
       "      <td>320.000000</td>\n",
       "      <td>50.000000</td>\n",
       "      <td>2526.00000</td>\n",
       "      <td>3.00000</td>\n",
       "      <td>175.000000</td>\n",
       "      <td>100093.000000</td>\n",
       "      <td>101.000000</td>\n",
       "    </tr>\n",
       "    <tr>\n",
       "      <td>max</td>\n",
       "      <td>1.844662e+19</td>\n",
       "      <td>1.000000</td>\n",
       "      <td>1012.000000</td>\n",
       "      <td>7.000000</td>\n",
       "      <td>5.000000</td>\n",
       "      <td>5.000000</td>\n",
       "      <td>24043.000000</td>\n",
       "      <td>1024.000000</td>\n",
       "      <td>1024.000000</td>\n",
       "      <td>2757.00000</td>\n",
       "      <td>3.00000</td>\n",
       "      <td>1839.000000</td>\n",
       "      <td>100248.000000</td>\n",
       "      <td>255.000000</td>\n",
       "    </tr>\n",
       "  </tbody>\n",
       "</table>\n",
       "</div>"
      ],
      "text/plain": [
       "                 id          click             C1     banner_pos  \\\n",
       "count  1.000000e+05  100000.000000  100000.000000  100000.000000   \n",
       "mean   9.231148e+18       0.169470    1004.970800       0.286750   \n",
       "std    5.328256e+18       0.375168       1.112124       0.508042   \n",
       "min    1.441823e+13       0.000000    1001.000000       0.000000   \n",
       "25%    4.611897e+18       0.000000    1005.000000       0.000000   \n",
       "50%    9.213765e+18       0.000000    1005.000000       0.000000   \n",
       "75%    1.385012e+19       0.000000    1005.000000       1.000000   \n",
       "max    1.844662e+19       1.000000    1012.000000       7.000000   \n",
       "\n",
       "         device_type  device_conn_type            C14            C15  \\\n",
       "count  100000.000000     100000.000000  100000.000000  100000.000000   \n",
       "mean        1.016620          0.334780   18827.812790     318.951040   \n",
       "std         0.534478          0.858283    4978.119365      21.269664   \n",
       "min         0.000000          0.000000     375.000000     120.000000   \n",
       "25%         1.000000          0.000000   16859.000000     320.000000   \n",
       "50%         1.000000          0.000000   20346.000000     320.000000   \n",
       "75%         1.000000          0.000000   21894.000000     320.000000   \n",
       "max         5.000000          5.000000   24043.000000    1024.000000   \n",
       "\n",
       "                 C16           C17           C18            C19  \\\n",
       "count  100000.000000  100000.00000  100000.00000  100000.000000   \n",
       "mean       59.844680    2111.06351       1.42963     227.435710   \n",
       "std        46.700058     611.17776       1.32788     350.661815   \n",
       "min        20.000000     112.00000       0.00000      33.000000   \n",
       "25%        50.000000    1835.00000       0.00000      35.000000   \n",
       "50%        50.000000    2323.00000       2.00000      39.000000   \n",
       "75%        50.000000    2526.00000       3.00000     175.000000   \n",
       "max      1024.000000    2757.00000       3.00000    1839.000000   \n",
       "\n",
       "                 C20            C21  \n",
       "count  100000.000000  100000.000000  \n",
       "mean    53007.078110      83.428260  \n",
       "std     49969.915325      70.184056  \n",
       "min        -1.000000       1.000000  \n",
       "25%        -1.000000      23.000000  \n",
       "50%    100037.000000      61.000000  \n",
       "75%    100093.000000     101.000000  \n",
       "max    100248.000000     255.000000  "
      ]
     },
     "execution_count": 6,
     "metadata": {},
     "output_type": "execute_result"
    }
   ],
   "source": [
    "data.describe()"
   ]
  },
  {
   "cell_type": "code",
   "execution_count": 2,
   "metadata": {},
   "outputs": [
    {
     "name": "stderr",
     "output_type": "stream",
     "text": [
      "C:\\Users\\cl1888\\AppData\\Local\\Continuum\\anaconda3\\lib\\site-packages\\ipykernel_launcher.py:2: FutureWarning: `weekday_name` is deprecated and will be removed in a future version. Use `day_name` instead\n",
      "  \n"
     ]
    }
   ],
   "source": [
    "data['hour_of_day'] = data.hour.apply(lambda x: x.hour)\n",
    "data['day_of_week'] = data.hour.apply(lambda x: x.weekday_name)"
   ]
  },
  {
   "cell_type": "code",
   "execution_count": 3,
   "metadata": {},
   "outputs": [],
   "source": [
    "# Drop ID\n",
    "drops = ['id', 'hour', 'device_id', 'device_ip']\n",
    "data = data.drop(drops, axis = 1)"
   ]
  },
  {
   "cell_type": "code",
   "execution_count": 7,
   "metadata": {},
   "outputs": [
    {
     "data": {
      "text/plain": [
       "click                int64\n",
       "C1                   int64\n",
       "banner_pos           int64\n",
       "site_id             object\n",
       "site_domain         object\n",
       "site_category       object\n",
       "app_id              object\n",
       "app_domain          object\n",
       "app_category        object\n",
       "device_model        object\n",
       "device_type          int64\n",
       "device_conn_type     int64\n",
       "C14                  int64\n",
       "C15                  int64\n",
       "C16                  int64\n",
       "C17                  int64\n",
       "C18                  int64\n",
       "C19                  int64\n",
       "C20                  int64\n",
       "C21                  int64\n",
       "hour_of_day          int64\n",
       "day_of_week         object\n",
       "dtype: object"
      ]
     },
     "execution_count": 7,
     "metadata": {},
     "output_type": "execute_result"
    }
   ],
   "source": [
    "data.dtypes"
   ]
  },
  {
   "cell_type": "code",
   "execution_count": 8,
   "metadata": {},
   "outputs": [
    {
     "data": {
      "text/plain": [
       "click                  2\n",
       "C1                     7\n",
       "banner_pos             7\n",
       "site_id             1480\n",
       "site_domain         1361\n",
       "site_category         20\n",
       "app_id              1302\n",
       "app_domain            98\n",
       "app_category          22\n",
       "device_model        3160\n",
       "device_type            4\n",
       "device_conn_type       4\n",
       "C14                 1710\n",
       "C15                    8\n",
       "C16                    9\n",
       "C17                  394\n",
       "C18                    4\n",
       "C19                   64\n",
       "C20                  156\n",
       "C21                   60\n",
       "hour_of_day           24\n",
       "day_of_week            7\n",
       "dtype: int64"
      ]
     },
     "execution_count": 8,
     "metadata": {},
     "output_type": "execute_result"
    }
   ],
   "source": [
    "data.agg('nunique')"
   ]
  },
  {
   "cell_type": "code",
   "execution_count": 4,
   "metadata": {},
   "outputs": [],
   "source": [
    "msk = np.random.rand(len(data)) < 0.8\n",
    "\n",
    "train = data[msk]\n",
    "\n",
    "test = data[~msk]\n",
    "\n",
    "\n",
    "def convert_obj_to_int(self):\n",
    "    \n",
    "    object_list_columns = self.columns\n",
    "    object_list_dtypes = self.dtypes\n",
    "    new_col_suffix = '_int'\n",
    "    for index in range(0,len(object_list_columns)):\n",
    "        if object_list_dtypes[index] == object :\n",
    "            self[object_list_columns[index]+new_col_suffix] = self[object_list_columns[index]].map( lambda  x: hash(x))\n",
    "            self.drop([object_list_columns[index]], inplace=True,axis=1)\n",
    "    return self\n",
    "\n",
    "\n",
    "X_train = train.loc[:, train.columns != 'click']\n",
    "X_train = X_train.astype(str)\n",
    "\n",
    "y_train = train.click.values\n",
    "\n",
    "X_test = test.loc[:, train.columns != 'click']\n",
    "X_test = X_test.astype(str)\n",
    "\n",
    "y_test = test.click.values\n",
    "\n",
    "X_train = convert_obj_to_int(X_train).to_numpy()\n",
    "X_test = convert_obj_to_int(X_test).to_numpy()\n",
    "\n",
    "undersample = NearMiss(version=3, n_neighbors_ver3=3)\n",
    "X_train, y_train = undersample.fit_resample(X_train, y_train)\n"
   ]
  },
  {
   "cell_type": "code",
   "execution_count": 5,
   "metadata": {},
   "outputs": [
    {
     "data": {
      "text/plain": [
       "{0: 13683, 1: 13683}"
      ]
     },
     "execution_count": 5,
     "metadata": {},
     "output_type": "execute_result"
    }
   ],
   "source": [
    "unique, counts = np.unique(y_train, return_counts=True)\n",
    "dict(zip(unique, counts))"
   ]
  },
  {
   "cell_type": "code",
   "execution_count": 6,
   "metadata": {},
   "outputs": [],
   "source": [
    "mod1 = DecisionTreeClassifier(max_depth = None)\n",
    "mod2 = RandomForestClassifier(n_estimators=100, max_depth = None)\n",
    "mod3 = GradientBoostingClassifier(learning_rate=0.2, n_estimators=100)\n",
    "mod4 = BaggingClassifier(max_features = 0.7)\n",
    "mod1.fit(X_train, y_train)\n",
    "mod2.fit(X_train, y_train)\n",
    "mod3.fit(X_train, y_train)\n",
    "mod4.fit(X_train, y_train)\n",
    "preds1 = mod1.predict(X_test).astype(int)\n",
    "preds2 = mod2.predict(X_test).astype(int)\n",
    "preds3 = mod3.predict(X_test).astype(int)\n",
    "preds4 = mod4.predict(X_test).astype(int)\n",
    "\n",
    "\n",
    "\n"
   ]
  },
  {
   "cell_type": "code",
   "execution_count": 7,
   "metadata": {},
   "outputs": [],
   "source": [
    "from sklearn.metrics import accuracy_score\n",
    "\n",
    "def get_metrics(y_true, y_preds):\n",
    "    recall = recall_score(y_true, y_preds)\n",
    "    precision = precision_score(y_true, y_preds)\n",
    "    accuracy = accuracy_score(y_true, y_preds)\n",
    "    return (recall, precision, accuracy)\n"
   ]
  },
  {
   "cell_type": "code",
   "execution_count": 8,
   "metadata": {},
   "outputs": [
    {
     "data": {
      "text/html": [
       "<div>\n",
       "<style scoped>\n",
       "    .dataframe tbody tr th:only-of-type {\n",
       "        vertical-align: middle;\n",
       "    }\n",
       "\n",
       "    .dataframe tbody tr th {\n",
       "        vertical-align: top;\n",
       "    }\n",
       "\n",
       "    .dataframe thead th {\n",
       "        text-align: right;\n",
       "    }\n",
       "</style>\n",
       "<table border=\"1\" class=\"dataframe\">\n",
       "  <thead>\n",
       "    <tr style=\"text-align: right;\">\n",
       "      <th></th>\n",
       "      <th>Metrics</th>\n",
       "      <th>Mod1: Decision Tree</th>\n",
       "      <th>Mod2: Random Forest</th>\n",
       "      <th>Mod3: Boosted Decision Tree</th>\n",
       "      <th>Mod4: Bagged Decision Tree</th>\n",
       "    </tr>\n",
       "  </thead>\n",
       "  <tbody>\n",
       "    <tr>\n",
       "      <td>0</td>\n",
       "      <td>Recall</td>\n",
       "      <td>0.640734</td>\n",
       "      <td>0.586538</td>\n",
       "      <td>0.571678</td>\n",
       "      <td>0.613928</td>\n",
       "    </tr>\n",
       "    <tr>\n",
       "      <td>1</td>\n",
       "      <td>Precision</td>\n",
       "      <td>0.208495</td>\n",
       "      <td>0.236629</td>\n",
       "      <td>0.256437</td>\n",
       "      <td>0.234372</td>\n",
       "    </tr>\n",
       "    <tr>\n",
       "      <td>2</td>\n",
       "      <td>Accuracy</td>\n",
       "      <td>0.519798</td>\n",
       "      <td>0.603398</td>\n",
       "      <td>0.641189</td>\n",
       "      <td>0.588613</td>\n",
       "    </tr>\n",
       "  </tbody>\n",
       "</table>\n",
       "</div>"
      ],
      "text/plain": [
       "     Metrics  Mod1: Decision Tree  Mod2: Random Forest  \\\n",
       "0     Recall             0.640734             0.586538   \n",
       "1  Precision             0.208495             0.236629   \n",
       "2   Accuracy             0.519798             0.603398   \n",
       "\n",
       "   Mod3: Boosted Decision Tree  Mod4: Bagged Decision Tree  \n",
       "0                     0.571678                    0.613928  \n",
       "1                     0.256437                    0.234372  \n",
       "2                     0.641189                    0.588613  "
      ]
     },
     "execution_count": 8,
     "metadata": {},
     "output_type": "execute_result"
    }
   ],
   "source": [
    "pd.DataFrame({'Metrics':['Recall', 'Precision', 'Accuracy'],\n",
    "'Mod1: Decision Tree': get_metrics(y_test, preds1),\n",
    "'Mod2: Random Forest': get_metrics(y_test, preds2),\n",
    "'Mod3: Boosted Decision Tree': get_metrics(y_test, preds3),\n",
    "'Mod4: Bagged Decision Tree': get_metrics(y_test, preds4)})"
   ]
  },
  {
   "cell_type": "code",
   "execution_count": 9,
   "metadata": {},
   "outputs": [],
   "source": [
    "probs1 = mod1.predict_proba(X_test)\n",
    "probs2 = mod2.predict_proba(X_test)\n",
    "probs3 = mod3.predict_proba(X_test)\n",
    "probs4 = mod4.predict_proba(X_test)\n",
    "fpr1, tpr1, _ = roc_curve(y_test, probs1[:, 1])\n",
    "fpr2, tpr2, _ = roc_curve(y_test, probs2[:, 1])\n",
    "fpr3, tpr3, _ = roc_curve(y_test, probs3[:, 1])\n",
    "fpr4, tpr4, _ = roc_curve(y_test, probs4[:, 1])\n",
    "auc1 = roc_auc_score(y_test, probs1[:, 1])\n",
    "auc2 = roc_auc_score(y_test, probs2[:, 1])\n",
    "auc3 = roc_auc_score(y_test, probs3[:, 1])\n",
    "auc4 = roc_auc_score(y_test, probs4[:, 1])\n"
   ]
  },
  {
   "cell_type": "code",
   "execution_count": 10,
   "metadata": {},
   "outputs": [
    {
     "data": {
      "image/png": "[encoded data removed]",
      "text/plain": [
       "<Figure size 432x288 with 1 Axes>"
      ]
     },
     "metadata": {
      "needs_background": "light"
     },
     "output_type": "display_data"
    }
   ],
   "source": [
    "plt.plot(fpr1, tpr1, 'b', label = 'Decision Tree (AUC={:.3f})'.format(auc1), c='blue')\n",
    "plt.plot(fpr2, tpr2, 'b', label = 'Random Forest (AUC={:.3f})'.format(auc2), c='orange')\n",
    "plt.plot(fpr3, tpr3, 'b', label = 'Boosted Decision Tree (AUC={:.3f})'.format(auc3), c='red')\n",
    "plt.plot(fpr4, tpr4, 'b', label = 'Bagged Decision Tree(AUC={:.3f})'.format(auc4), c='black')\n",
    "plt.legend(loc = 'lower right')\n",
    "plt.plot([0, 1], [0, 1],'r--')\n",
    "plt.xlim([0, 1])\n",
    "plt.ylim([0, 1])\n",
    "plt.ylabel('True Positive Rate')\n",
    "plt.xlabel('False Positive Rate')\n",
    "plt.show()"
   ]
  },
  {
   "cell_type": "code",
   "execution_count": 11,
   "metadata": {},
   "outputs": [],
   "source": [
    "# Number of trees in random forest\n",
    "n_estimators = [int(x) for x in np.linspace(start = 100, stop = 1000, num = 10)]\n",
    "# Maximum number of levels in tree\n",
    "max_depth = [int(x) for x in np.linspace(10, 100, num = 10)]\n",
    "# Create the random grid\n",
    "param_grid = {'n_estimators': n_estimators,\n",
    "              'max_depth': max_depth}\n"
   ]
  },
  {
   "cell_type": "code",
   "execution_count": 12,
   "metadata": {
    "scrolled": true
   },
   "outputs": [
    {
     "name": "stdout",
     "output_type": "stream",
     "text": [
      "Fitting 5 folds for each of 100 candidates, totalling 500 fits\n"
     ]
    },
    {
     "name": "stderr",
     "output_type": "stream",
     "text": [
      "[Parallel(n_jobs=-1)]: Using backend LokyBackend with 8 concurrent workers.\n",
      "[Parallel(n_jobs=-1)]: Done  25 tasks      | elapsed:   53.6s\n",
      "[Parallel(n_jobs=-1)]: Done 146 tasks      | elapsed: 10.3min\n",
      "[Parallel(n_jobs=-1)]: Done 349 tasks      | elapsed: 27.9min\n",
      "[Parallel(n_jobs=-1)]: Done 500 out of 500 | elapsed: 41.6min finished\n"
     ]
    },
    {
     "data": {
      "text/plain": [
       "GridSearchCV(cv=5, error_score=nan,\n",
       "             estimator=RandomForestClassifier(bootstrap=True, ccp_alpha=0.0,\n",
       "                                              class_weight=None,\n",
       "                                              criterion='gini', max_depth=None,\n",
       "                                              max_features='auto',\n",
       "                                              max_leaf_nodes=None,\n",
       "                                              max_samples=None,\n",
       "                                              min_impurity_decrease=0.0,\n",
       "                                              min_impurity_split=None,\n",
       "                                              min_samples_leaf=1,\n",
       "                                              min_samples_split=2,\n",
       "                                              min_weight_fraction_leaf=0.0,\n",
       "                                              n_estimators=100, n_jobs=None,\n",
       "                                              oob_score=False,\n",
       "                                              random_state=None, verbose=0,\n",
       "                                              warm_start=False),\n",
       "             iid='deprecated', n_jobs=-1,\n",
       "             param_grid={'max_depth': [10, 20, 30, 40, 50, 60, 70, 80, 90, 100],\n",
       "                         'n_estimators': [100, 200, 300, 400, 500, 600, 700,\n",
       "                                          800, 900, 1000]},\n",
       "             pre_dispatch='2*n_jobs', refit=True, return_train_score=False,\n",
       "             scoring='f1', verbose=2)"
      ]
     },
     "execution_count": 12,
     "metadata": {},
     "output_type": "execute_result"
    }
   ],
   "source": [
    "rf = RandomForestClassifier()\n",
    "grid_search = GridSearchCV(estimator = rf, param_grid = param_grid, cv = 5, n_jobs = -1, verbose = 2, scoring = 'f1')\n",
    "grid_search.fit(X_train, y_train)"
   ]
  },
  {
   "cell_type": "code",
   "execution_count": 13,
   "metadata": {},
   "outputs": [
    {
     "data": {
      "text/plain": [
       "{'max_depth': 10, 'n_estimators': 500}"
      ]
     },
     "execution_count": 13,
     "metadata": {},
     "output_type": "execute_result"
    }
   ],
   "source": [
    "grid_search.best_params_"
   ]
  },
  {
   "cell_type": "code",
   "execution_count": 14,
   "metadata": {},
   "outputs": [
    {
     "data": {
      "image/png": "[encoded data removed]",
      "text/plain": [
       "<Figure size 432x288 with 1 Axes>"
      ]
     },
     "metadata": {
      "needs_background": "light"
     },
     "output_type": "display_data"
    }
   ],
   "source": [
    "mod2 = RandomForestClassifier(n_estimators=grid_search.best_params_['n_estimators'],\n",
    "                              max_depth = grid_search.best_params_['max_depth'])\n",
    "mod2.fit(X_train, y_train)\n",
    "preds2 = mod2.predict(X_test)\n",
    "probs2 = mod2.predict_proba(X_test)\n",
    "fpr2, tpr2, _ = roc_curve(y_test, probs2[:, 1])\n",
    "auc2 = roc_auc_score(y_test, probs2[:, 1])\n",
    "plt.title('Receiver Operating Characteristic')\n",
    "plt.plot(fpr2, tpr2, 'b', label = 'Random Forest (AUC={:.3f})'.format(auc2), c='orange')\n",
    "plt.legend(loc = 'lower right')\n",
    "plt.plot([0, 1], [0, 1],'r--')\n",
    "plt.xlim([0, 1])\n",
    "plt.ylim([0, 1])\n",
    "plt.ylabel('True Positive Rate')\n",
    "plt.xlabel('False Positive Rate')\n",
    "plt.show()\n"
   ]
  },
  {
   "cell_type": "code",
   "execution_count": 15,
   "metadata": {
    "scrolled": true
   },
   "outputs": [
    {
     "data": {
      "text/html": [
       "<div>\n",
       "<style scoped>\n",
       "    .dataframe tbody tr th:only-of-type {\n",
       "        vertical-align: middle;\n",
       "    }\n",
       "\n",
       "    .dataframe tbody tr th {\n",
       "        vertical-align: top;\n",
       "    }\n",
       "\n",
       "    .dataframe thead th {\n",
       "        text-align: right;\n",
       "    }\n",
       "</style>\n",
       "<table border=\"1\" class=\"dataframe\">\n",
       "  <thead>\n",
       "    <tr style=\"text-align: right;\">\n",
       "      <th></th>\n",
       "      <th>Metrics</th>\n",
       "      <th>New Model: Random Forest</th>\n",
       "    </tr>\n",
       "  </thead>\n",
       "  <tbody>\n",
       "    <tr>\n",
       "      <td>0</td>\n",
       "      <td>Recall</td>\n",
       "      <td>0.530012</td>\n",
       "    </tr>\n",
       "    <tr>\n",
       "      <td>1</td>\n",
       "      <td>Precision</td>\n",
       "      <td>0.267107</td>\n",
       "    </tr>\n",
       "    <tr>\n",
       "      <td>2</td>\n",
       "      <td>Accuracy</td>\n",
       "      <td>0.669006</td>\n",
       "    </tr>\n",
       "  </tbody>\n",
       "</table>\n",
       "</div>"
      ],
      "text/plain": [
       "     Metrics  New Model: Random Forest\n",
       "0     Recall                  0.530012\n",
       "1  Precision                  0.267107\n",
       "2   Accuracy                  0.669006"
      ]
     },
     "execution_count": 15,
     "metadata": {},
     "output_type": "execute_result"
    }
   ],
   "source": [
    "pd.DataFrame({'Metrics':['Recall', 'Precision', 'Accuracy'],'New Model: Random Forest': get_metrics(y_test, preds2)})"
   ]
  },
  {
   "cell_type": "code",
   "execution_count": null,
   "metadata": {},
   "outputs": [],
   "source": []
  }
 ],
 "metadata": {
  "kernelspec": {
   "display_name": "Python 3",
   "language": "python",
   "name": "python3"
  },
  "language_info": {
   "codemirror_mode": {
    "name": "ipython",
    "version": 3
   },
   "file_extension": ".py",
   "mimetype": "text/x-python",
   "name": "python",
   "nbconvert_exporter": "python",
   "pygments_lexer": "ipython3",
   "version": "3.7.4"
  }
 },
 "nbformat": 4,
 "nbformat_minor": 2
}
